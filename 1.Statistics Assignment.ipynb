{
 "cells": [
  {
   "cell_type": "code",
   "execution_count": null,
   "id": "e9e012ae-97c8-4f81-bef3-5e7b50295d4b",
   "metadata": {},
   "outputs": [],
   "source": [
    "Q1. What is Statistics?\n",
    "Statistics is a colection, organization and analyzation of scientific data, \n",
    "where data is collection of information.\n",
    "example of statistics data is heights,weights of a class or an entire college or school."
   ]
  },
  {
   "cell_type": "code",
   "execution_count": null,
   "id": "babe6d71-6436-41bd-9c5a-20ad02767176",
   "metadata": {},
   "outputs": [],
   "source": [
    "Q2. Define the different types of statistics and give an example of when each type might be used.\n",
    "There are two types of statistics, they are: 1. Descriptive 2.Inferential.\n",
    "\n",
    "1. Descriptive statistics:\n",
    "    Measuring Description of available data.\n",
    "        like:\n",
    "            Measure of Central Tendency: Mean, Median, Mode\n",
    "            Measure of Dispersion: Variance, Standard Deviation \n",
    "            Distribution of Data: Shape of data\n",
    "            \n",
    "2. Inferential Statistics:\n",
    "    Measuring data to get a conclusion:\n",
    "        like:\n",
    "            Hypothesis Testing:  Z Test, T Test.\n",
    "            Value of P\n",
    "\n",
    "In Inferential Statistics we have a sample data which comes from population data,\n",
    "to get a conclusion for population data\n",
    "\n",
    "Example:\n",
    "    Descriptive Statistics:\n",
    "        What is an average of heights of given data?\n",
    "    Inferential Statistics:\n",
    "        Whether measurement of height of the class are similar to the entire college?\n",
    "            "
   ]
  },
  {
   "cell_type": "code",
   "execution_count": null,
   "id": "371d742f-ff7e-4c17-a056-c22ea32653a6",
   "metadata": {},
   "outputs": [],
   "source": [
    "Q3. What are the different types of data and how do they differ from each other? Provide an example of\n",
    "each type of data.\n",
    "\n",
    "Data is a collection of information\n",
    "Data can be of two types in statistics they are:\n",
    "    \n",
    "    1. Quantitative: usually numbers, It also have two types they are:\n",
    "        A. Descrete: usually whole number such as no of Bank Acounts, Family Members.\n",
    "        B. Continous: Any Measurement such as Height,Weight,Temperature,etc\n",
    "        \n",
    "    2. Qualitative: usually categories of data, It also have two types they are:\n",
    "        A. Nominal: Ranks can't be given such as Gender.\n",
    "        B. Ordinary: Ranks are provided such as Customer Review."
   ]
  },
  {
   "cell_type": "code",
   "execution_count": null,
   "id": "d50955ff-7258-4913-b951-619220e53b90",
   "metadata": {},
   "outputs": [],
   "source": [
    "Q4. Categorise the following datasets with respect to quantitative and qualitative data types:\n",
    "(i) Grading in exam: A+, A, B+, B, C+, C, D, E\n",
    "(ii) Colour of mangoes: yellow, green, orange, red\n",
    "(iii) Height data of a class: [178.9, 179, 179.5, 176, 177.2, 178.3, 175.8,...]\n",
    "(iv) Number of mangoes exported by a farm: [500, 600, 478, 672, ...]\n",
    "\n",
    "(i) Ranks are given, it means Qualitative Ordinary Data.\n",
    "(ii) Ranks can't be given, it means Qualitative Nominal Data.\n",
    "(iii) Measurement of data, it means Quantitative Continous Data.\n",
    "(iv) Whole Numbers, it means Quantitative Descrete Data."
   ]
  },
  {
   "cell_type": "code",
   "execution_count": null,
   "id": "d1ce296c-08f2-4c58-be27-c3a780236720",
   "metadata": {},
   "outputs": [],
   "source": [
    "Q5. Explain the concept of levels of measurement and give an example of a variable for each level.\n",
    "    1. Quantitative: usually numbers, It also have two types they are:\n",
    "        A. Descrete: usually whole number such as no of Bank Acounts, Family Members.\n",
    "        B. Continous: Any Measurement such as Height,Weight,Temperature,etc\n",
    "        \n",
    "    2. Qualitative: usually categories of data, It also have two types they are:\n",
    "        A. Nominal: Ranks can't be given such as Gender.\n",
    "        B. Ordinary: Ranks are provided such as Customer Review."
   ]
  },
  {
   "cell_type": "code",
   "execution_count": null,
   "id": "3bfc76fa-c305-4d10-8b8f-bdecd427cfa3",
   "metadata": {},
   "outputs": [],
   "source": [
    "Q6. Why is it important to understand the level of measurement when analyzing data? Provide an\n",
    "example to illustrate your answer.\n",
    "\n",
    "Limits the Applicable Statistics: \n",
    "    Each level allows for specific calculations. Using the wrong level for a statistic can lead to wrong results.\n",
    "\n",
    "Example:  \n",
    "    A study investigates the relationship between exercise frequency (ordinal: never, rarely, sometimes, often, always) and weight loss (ratio: kilograms lost). \n",
    "    \n",
    "    Here's how level of measurement matters:\n",
    "    Incorrect Analysis: If you simply compare the average weight loss for each exercise frequency category (ordinal), you might not uncover the true relationship.\n",
    "    Correct Analysis: By recognizing exercise frequency as ordinal, you might use statistical tests suitable for ranked data. "
   ]
  },
  {
   "cell_type": "code",
   "execution_count": null,
   "id": "c4cde178-d3fa-45cf-be65-82a2f8d329f2",
   "metadata": {},
   "outputs": [],
   "source": [
    "Q7. How nominal data type is different from ordinal data type.\n",
    "Qualitative: usually categories of data, It also have two types they are:\n",
    "        A. Nominal: Ranks can't be given such as Gender.\n",
    "        Example: Grading in exam: A+, A, B+, B, C+, C, D, E\n",
    "            \n",
    "        B. Ordinary: Ranks are provided such as Customer Review.\n",
    "        Example: Grading in exam: A+, A, B+, B, C+, C, D, E"
   ]
  },
  {
   "cell_type": "markdown",
   "id": "f54bbaa4-b007-4e1f-a48d-b8903902871b",
   "metadata": {},
   "source": [
    "Q8. Which type of plot can be used to display data in terms of range?\n",
    "\n",
    "1.Box Plot: This is a common choice for showing the distribution of data with a range. It displays the minimum, maximum, median, and quartiles of data.\n",
    "2.Range Plot (or High-Low Plot): This is a less common but effective option for visualizing ranges. It displays two data points for each category or variable on the x-axis."
   ]
  },
  {
   "cell_type": "code",
   "execution_count": null,
   "id": "0185d22e-1706-466c-a864-e92e6ccd28cc",
   "metadata": {},
   "outputs": [],
   "source": [
    "Q9. Describe the difference between descriptive and inferential statistics. Give an example of each\n",
    "type of statistics and explain how they are used.\n",
    "\n",
    "There are two types of statistics, they are: 1. Descriptive 2.Inferential.\n",
    "\n",
    "1. Descriptive statistics:\n",
    "    Measuring Description of available data.\n",
    "        like:\n",
    "            Measure of Central Tendency: Mean, Median, Mode\n",
    "            Measure of Dispersion: Variance, Standard Deviation \n",
    "            Distribution of Data: Shape of data\n",
    "            \n",
    "2. Inferential Statistics:\n",
    "    Measuring data to get a conclusion:\n",
    "        like:\n",
    "            Hypothesis Testing:  Z Test, T Test.\n",
    "            Value of P\n",
    "\n",
    "In Inferential Statistics we have a sample data which comes from population data,\n",
    "to get a conclusion for population data\n",
    "\n",
    "Example:\n",
    "    Descriptive Statistics:\n",
    "        What is an average of heights of given data?\n",
    "    Inferential Statistics:\n",
    "        Whether measurement of height of the class are similar to the entire college?"
   ]
  },
  {
   "cell_type": "code",
   "execution_count": null,
   "id": "ad4e6717-c9bd-4d3f-92b7-8499b3b79602",
   "metadata": {},
   "outputs": [],
   "source": [
    "Q10. What are some common measures of central tendency and variability used in statistics? Explain\n",
    "how each measure can be used to describe a dataset.\n",
    "\n",
    "\n",
    "1. Descriptive statistics:\n",
    "    Measuring Description of available data.\n",
    "        like:\n",
    "            Measure of Central Tendency: Mean, Median, Mode\n",
    "            Measure of Dispersion: Variance, Standard Deviation \n",
    "            Distribution of Data: Shape of data\n",
    "            \n",
    "2. Inferential Statistics:\n",
    "    Measuring data to get a conclusion:\n",
    "        like:\n",
    "            Hypothesis Testing:  Z Test, T Test.\n",
    "            Value of P\n",
    "\n",
    "\n",
    "Example:\n",
    "    Descriptive Statistics:\n",
    "        What is an average of heights of given data?\n",
    "    Inferential Statistics:\n",
    "        Whether measurement of height of the class are similar to the entire college?"
   ]
  }
 ],
 "metadata": {
  "kernelspec": {
   "display_name": "Python 3 (ipykernel)",
   "language": "python",
   "name": "python3"
  },
  "language_info": {
   "codemirror_mode": {
    "name": "ipython",
    "version": 3
   },
   "file_extension": ".py",
   "mimetype": "text/x-python",
   "name": "python",
   "nbconvert_exporter": "python",
   "pygments_lexer": "ipython3",
   "version": "3.10.8"
  }
 },
 "nbformat": 4,
 "nbformat_minor": 5
}
